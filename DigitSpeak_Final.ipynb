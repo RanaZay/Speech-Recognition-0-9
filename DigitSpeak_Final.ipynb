{
  "nbformat": 4,
  "nbformat_minor": 0,
  "metadata": {
    "colab": {
      "provenance": [],
      "authorship_tag": "ABX9TyMh4gFuhQqPcobDNbUCZNib",
      "include_colab_link": true
    },
    "kernelspec": {
      "name": "python3",
      "display_name": "Python 3"
    },
    "language_info": {
      "name": "python"
    }
  },
  "cells": [
    {
      "cell_type": "markdown",
      "metadata": {
        "id": "view-in-github",
        "colab_type": "text"
      },
      "source": [
        "<a href=\"https://colab.research.google.com/github/RanaZay/Speech-Recognition-0-9/blob/main/DigitSpeak_Final.ipynb\" target=\"_parent\"><img src=\"https://colab.research.google.com/assets/colab-badge.svg\" alt=\"Open In Colab\"/></a>"
      ]
    },
    {
      "cell_type": "markdown",
      "source": [
        "<div style=\"border: 2px solid #4CAF50; padding: 15px; background-color: #f9f9f9; border-radius: 10px;\">\n",
        "    <h1 style=\"color: #4CAF50;\">Digits Speech Recognition on Google Speech Commands</h1>\n",
        "    <p>This notebook demonstrates how to predict spoken digits from audio files using a  neural network model. The process involves the following steps:</p>\n",
        "    <ul>\n",
        "        <li>Preprocessing the audio files from dataset to extract MFCC features.</li>\n",
        "        <li>Loading a trained model.</li>\n",
        "        <li>Using the model to predict the digit for a given audio file.</li>\n",
        "    </ul>\n",
        "    <p>Let's get started!</p>\n",
        "</div>\n"
      ],
      "metadata": {
        "id": "MZfhsho_nF4F"
      }
    },
    {
      "cell_type": "markdown",
      "source": [
        "<div style=\"border: 2px solid #2196F3; padding: 15px; background-color: #e3f2fd; border-radius: 10px;\">\n",
        "    <h2 style=\"color: #2196F3;\">Imports and Setup</h2>\n",
        "    <p>We begin by importing the necessary libraries and setting up the environment for audio processing and model prediction.</p>\n",
        "</div>\n"
      ],
      "metadata": {
        "id": "EUUFjWrPnide"
      }
    },
    {
      "cell_type": "code",
      "execution_count": null,
      "metadata": {
        "id": "nDCaH8cKSWlR"
      },
      "outputs": [],
      "source": [
        "import pathlib\n",
        "import seaborn\n",
        "from IPython import display\n",
        "from sklearn.preprocessing import LabelEncoder\n",
        "\n",
        "\n",
        "import numpy as np\n",
        "import os\n",
        "import tensorflow as tf\n",
        "import matplotlib.pyplot as plt\n",
        "from sklearn.model_selection import train_test_split\n",
        "from tensorflow.keras.models import Sequential\n",
        "from tensorflow.keras.layers import Dense, Conv2D, MaxPooling2D, Flatten, Dropout\n",
        "from tensorflow.keras.utils import to_categorical\n",
        "import librosa\n",
        "import librosa.display\n"
      ]
    },
    {
      "cell_type": "code",
      "source": [
        "from google.colab import drive\n",
        "drive.mount('/content/drive')"
      ],
      "metadata": {
        "colab": {
          "base_uri": "https://localhost:8080/"
        },
        "id": "6CnCRk6QSbhy",
        "outputId": "de9e47a2-9d61-4716-eee6-0075a167dc80"
      },
      "execution_count": null,
      "outputs": [
        {
          "output_type": "stream",
          "name": "stdout",
          "text": [
            "Mounted at /content/drive\n"
          ]
        }
      ]
    },
    {
      "cell_type": "code",
      "source": [
        "!kaggle datasets download -d neehakurelli/google-speech-commands --path /content/drive/MyDrive/SpeechCommands"
      ],
      "metadata": {
        "colab": {
          "base_uri": "https://localhost:8080/"
        },
        "id": "29fVlAszS7HW",
        "outputId": "47ad435a-142f-4442-d48c-129c781249ce"
      },
      "execution_count": null,
      "outputs": [
        {
          "output_type": "stream",
          "name": "stdout",
          "text": [
            "Warning: Looks like you're using an outdated API Version, please consider updating (server 1.6.14 / client 1.6.12)\n",
            "Dataset URL: https://www.kaggle.com/datasets/neehakurelli/google-speech-commands\n",
            "License(s): unknown\n",
            "Downloading google-speech-commands.zip to /content/drive/MyDrive/SpeechCommands\n",
            "100% 1.38G/1.38G [00:24<00:00, 50.4MB/s]\n",
            "100% 1.38G/1.38G [00:24<00:00, 60.0MB/s]\n"
          ]
        }
      ]
    },
    {
      "cell_type": "code",
      "source": [
        "import os\n",
        "import zipfile\n",
        "\n",
        "# Define the path to the zip file and the extraction directory\n",
        "zip_path = '/content/drive/MyDrive/SpeechCommands/google-speech-commands.zip'\n",
        "extract_dir = '/content/drive/MyDrive/SpeechCommands'\n",
        "\n",
        "# Check if the zip file exists\n",
        "if not os.path.exists(zip_path):\n",
        "    print(f\"Zip file not found at {zip_path}\")\n",
        "else:\n",
        "    try:\n",
        "        # Attempt to open and extract the zip file\n",
        "        with zipfile.ZipFile(zip_path, 'r') as zip_ref:\n",
        "            zip_ref.extractall(extract_dir)\n",
        "        print(f\"Extraction completed successfully to {extract_dir}\")\n",
        "    except zipfile.BadZipFile:\n",
        "        print(f\"The file at {zip_path} is not a zip file or it is corrupted.\")\n",
        "    except Exception as e:\n",
        "        print(f\"An error occurred: {e}\")\n"
      ],
      "metadata": {
        "colab": {
          "base_uri": "https://localhost:8080/"
        },
        "id": "3GzERzkGUeTI",
        "outputId": "a2dc527b-169d-43d4-99d3-e44f60a1fea6"
      },
      "execution_count": null,
      "outputs": [
        {
          "output_type": "stream",
          "name": "stdout",
          "text": [
            "Extraction completed successfully to /content/drive/MyDrive/SpeechCommands\n"
          ]
        }
      ]
    },
    {
      "cell_type": "code",
      "source": [
        "extract_dir = '/content/drive/MyDrive/SpeechCommands'\n",
        "# List the extracted files and folders\n",
        "extracted_files = os.listdir(extract_dir)\n",
        "print(\"Extracted files and folders:\")\n",
        "print(len(extracted_files))"
      ],
      "metadata": {
        "colab": {
          "base_uri": "https://localhost:8080/"
        },
        "id": "avDZT-YbSd_q",
        "outputId": "29119fbb-3664-4ab2-f2aa-55a3c30ddbc5"
      },
      "execution_count": null,
      "outputs": [
        {
          "output_type": "stream",
          "name": "stdout",
          "text": [
            "Extracted files and folders:\n",
            "36\n"
          ]
        }
      ]
    },
    {
      "cell_type": "markdown",
      "source": [
        "<div style=\"border: 2px solid #FF9800; padding: 15px; background-color: #fff3e0; border-radius: 10px;\">\n",
        "    <h2 style=\"color: #FF9800;\">Data Preprocessing</h2>\n",
        "    <p>This section covers the preprocessing of audio files to extract MFCC features. These features are essential for the model to make accurate predictions.</p>\n",
        "</div>\n"
      ],
      "metadata": {
        "id": "9H5q0VZynvbM"
      }
    },
    {
      "cell_type": "markdown",
      "source": [
        "<div style=\"border: 2px solid #2196F3; padding: 15px; background-color: #e3f2fd; border-radius: 10px;\">\n",
        "    <h2 style=\"color: #2196F3;\">Mel-Frequency Cepstral Coefficients (MFCC)</h2>\n",
        "    <p>MFCC is a representation of the short-term power spectrum of a sound. It's widely used in speech and audio processing because it effectively captures the timbral aspects of the sound. The process involves:</p>\n",
        "    <ol>\n",
        "        <li>Taking the Fourier transform of a windowed signal.</li>\n",
        "        <li>Mapping the powers of the spectrum to the mel scale.</li>\n",
        "        <li>Taking the logarithm of the powers at each mel frequency.</li>\n",
        "        <li>Taking the discrete cosine transform of the resulting coefficients.</li>\n",
        "    </ol>\n",
        "</div>\n"
      ],
      "metadata": {
        "id": "928onW_aoT06"
      }
    },
    {
      "cell_type": "markdown",
      "source": [
        "<div style=\"border: 2px solid #FF9800; padding: 15px; background-color: #fff3e0; border-radius: 10px;\">\n",
        "    <h2 style=\"color: #FF9800;\">Loading and Preprocessing the Dataset</h2>\n",
        "    <p>In this section, we load and preprocess the dataset. The dataset contains audio recordings of spoken digits (\"zero\" to \"nine\"). The preprocessing steps include:</p>\n",
        "    <ol>\n",
        "        <li>Loading each audio file.</li>\n",
        "        <li>Extracting MFCC features from the audio.</li>\n",
        "        <li>Ensuring consistent shape of the MFCC features.</li>\n",
        "    </ol>\n",
        "</div>\n"
      ],
      "metadata": {
        "id": "vhhToayNogFq"
      }
    },
    {
      "cell_type": "code",
      "source": [
        "DATASET_PATH = '/content/drive/My Drive/SpeechCommands'\n",
        "DIGITS = ['zero', 'one', 'two', 'three', 'four', 'five', 'six', 'seven', 'eight', 'nine']\n",
        "\n",
        "def load_data(path, digits):\n",
        "    x_data, y_data = [], []\n",
        "    for i, digit in enumerate(digits):\n",
        "        digit_path = os.path.join(path, digit)\n",
        "        for filename in os.listdir(digit_path):\n",
        "            if filename.endswith('.wav'):\n",
        "                file_path = os.path.join(digit_path, filename)\n",
        "                y, sr = librosa.load(file_path, sr=16000)\n",
        "                mfcc = librosa.feature.mfcc(y=y, sr=sr, n_mfcc=40)\n",
        "                if mfcc.shape[1] == 32:  # Ensure consistent shape\n",
        "                    x_data.append(mfcc)\n",
        "                    y_data.append(i)\n",
        "    return np.array(x_data), np.array(y_data)\n",
        "\n",
        "x_data, y_data = load_data(DATASET_PATH, DIGITS)\n",
        "x_data = x_data[..., np.newaxis]  # Add channel dimension\n",
        "y_data = to_categorical(y_data, num_classes=len(DIGITS))\n",
        "\n",
        "# Split data into training and test sets\n",
        "x_train, x_test, y_train, y_test = train_test_split(x_data, y_data, test_size=0.2, random_state=42)\n"
      ],
      "metadata": {
        "id": "yDtYIoy3NgYj"
      },
      "execution_count": null,
      "outputs": []
    },
    {
      "cell_type": "markdown",
      "source": [
        "<div style=\"border: 2px solid #4CAF50; padding: 15px; background-color: #f9f9f9; border-radius: 10px;\">\n",
        "    <h2 style=\"color: #4CAF50;\">Model Architecture</h2>\n",
        "    <p>The model used for digit recognition is a Convolutional Neural Network (CNN). Here’s a detailed breakdown of each layer:</p>\n",
        "    <ul>\n",
        "        <li><strong>Conv2D (32, (3, 3), activation='relu', input_shape=(40, 32, 1)):</strong> The first convolutional layer with 32 filters, a kernel size of (3, 3), ReLU activation, and an input shape matching the MFCC feature dimensions.</li>\n",
        "        <li><strong>MaxPooling2D ((2, 2)):</strong> A max pooling layer with a pool size of (2, 2) to reduce the spatial dimensions.</li>\n",
        "        <li><strong>Dropout (0.25):</strong> A dropout layer with a dropout rate of 0.25 to prevent overfitting.</li>\n",
        "        <li><strong>Conv2D (64, (3, 3), activation='relu'):</strong> The second convolutional layer with 64 filters and a kernel size of (3, 3), again with ReLU activation.</li>\n",
        "        <li><strong>MaxPooling2D ((2, 2)):</strong> Another max pooling layer with a pool size of (2, 2).</li>\n",
        "        <li><strong>Dropout (0.25):</strong> Another dropout layer with a dropout rate of 0.25 to further prevent overfitting.</li>\n",
        "        <li><strong>Flatten ():</strong> A flatten layer to convert the 2D matrix into a 1D vector for the fully connected layers.</li>\n",
        "        <li><strong>Dense (128, activation='relu'):</strong> A dense (fully connected) layer with 128 units and ReLU activation.</li>\n",
        "        <li><strong>Dropout (0.5):</strong> A dropout layer with a higher dropout rate of 0.5 for more aggressive regularization.</li>\n",
        "        <li><strong>Dense (len(DIGITS), activation='softmax'):</strong> The output layer with a number of units equal to the number of digit classes and softmax activation to output class probabilities.</li>\n",
        "    </ul>\n",
        "    <p>The model is compiled with the Adam optimizer, categorical crossentropy loss function, and accuracy as the evaluation metric.</p>\n",
        "</div>\n"
      ],
      "metadata": {
        "id": "uhmbAnaio1WC"
      }
    },
    {
      "cell_type": "code",
      "source": [
        "model = Sequential([\n",
        "    Conv2D(32, (3, 3), activation='relu', input_shape=(40, 32, 1)),\n",
        "    MaxPooling2D((2, 2)),\n",
        "    Dropout(0.25),\n",
        "    Conv2D(64, (3, 3), activation='relu'),\n",
        "    MaxPooling2D((2, 2)),\n",
        "    Dropout(0.25),\n",
        "    Flatten(),\n",
        "    Dense(128, activation='relu'),\n",
        "    Dropout(0.5),\n",
        "    Dense(len(DIGITS), activation='softmax')\n",
        "])\n",
        "\n",
        "model.compile(optimizer='adam', loss='categorical_crossentropy', metrics=['accuracy'])\n",
        "model.summary()\n"
      ],
      "metadata": {
        "colab": {
          "base_uri": "https://localhost:8080/"
        },
        "id": "NfbjboMuQbDx",
        "outputId": "b6e4aed9-7162-4448-9408-c017406d585a"
      },
      "execution_count": null,
      "outputs": [
        {
          "output_type": "stream",
          "name": "stdout",
          "text": [
            "Model: \"sequential\"\n",
            "_________________________________________________________________\n",
            " Layer (type)                Output Shape              Param #   \n",
            "=================================================================\n",
            " conv2d (Conv2D)             (None, 38, 30, 32)        320       \n",
            "                                                                 \n",
            " max_pooling2d (MaxPooling2  (None, 19, 15, 32)        0         \n",
            " D)                                                              \n",
            "                                                                 \n",
            " dropout (Dropout)           (None, 19, 15, 32)        0         \n",
            "                                                                 \n",
            " conv2d_1 (Conv2D)           (None, 17, 13, 64)        18496     \n",
            "                                                                 \n",
            " max_pooling2d_1 (MaxPoolin  (None, 8, 6, 64)          0         \n",
            " g2D)                                                            \n",
            "                                                                 \n",
            " dropout_1 (Dropout)         (None, 8, 6, 64)          0         \n",
            "                                                                 \n",
            " flatten (Flatten)           (None, 3072)              0         \n",
            "                                                                 \n",
            " dense (Dense)               (None, 128)               393344    \n",
            "                                                                 \n",
            " dropout_2 (Dropout)         (None, 128)               0         \n",
            "                                                                 \n",
            " dense_1 (Dense)             (None, 10)                1290      \n",
            "                                                                 \n",
            "=================================================================\n",
            "Total params: 413450 (1.58 MB)\n",
            "Trainable params: 413450 (1.58 MB)\n",
            "Non-trainable params: 0 (0.00 Byte)\n",
            "_________________________________________________________________\n"
          ]
        }
      ]
    },
    {
      "cell_type": "code",
      "source": [
        "history = model.fit(x_train, y_train, epochs=20, batch_size=32, validation_data=(x_test, y_test))\n"
      ],
      "metadata": {
        "colab": {
          "base_uri": "https://localhost:8080/"
        },
        "id": "cIOnZETWQg79",
        "outputId": "077d88f6-e1fb-4024-ffcf-d90527af96ba"
      },
      "execution_count": null,
      "outputs": [
        {
          "output_type": "stream",
          "name": "stdout",
          "text": [
            "Epoch 1/20\n",
            "540/540 [==============================] - 32s 57ms/step - loss: 2.5464 - accuracy: 0.1029 - val_loss: 2.3032 - val_accuracy: 0.0888\n",
            "Epoch 2/20\n",
            "540/540 [==============================] - 30s 56ms/step - loss: 2.3029 - accuracy: 0.1043 - val_loss: 2.3035 - val_accuracy: 0.0895\n",
            "Epoch 3/20\n",
            "540/540 [==============================] - 29s 54ms/step - loss: 2.2943 - accuracy: 0.1169 - val_loss: 2.2710 - val_accuracy: 0.1194\n",
            "Epoch 4/20\n",
            "540/540 [==============================] - 29s 53ms/step - loss: 2.1783 - accuracy: 0.1846 - val_loss: 1.9355 - val_accuracy: 0.3123\n",
            "Epoch 5/20\n",
            "540/540 [==============================] - 31s 58ms/step - loss: 1.5876 - accuracy: 0.4349 - val_loss: 0.8964 - val_accuracy: 0.7090\n",
            "Epoch 6/20\n",
            "540/540 [==============================] - 33s 62ms/step - loss: 1.0386 - accuracy: 0.6430 - val_loss: 0.5257 - val_accuracy: 0.8535\n",
            "Epoch 7/20\n",
            "540/540 [==============================] - 30s 55ms/step - loss: 0.7993 - accuracy: 0.7375 - val_loss: 0.4084 - val_accuracy: 0.8831\n",
            "Epoch 8/20\n",
            "540/540 [==============================] - 30s 56ms/step - loss: 0.6837 - accuracy: 0.7779 - val_loss: 0.3540 - val_accuracy: 0.9005\n",
            "Epoch 9/20\n",
            "540/540 [==============================] - 31s 57ms/step - loss: 0.6266 - accuracy: 0.7956 - val_loss: 0.3282 - val_accuracy: 0.9022\n",
            "Epoch 10/20\n",
            "540/540 [==============================] - 31s 57ms/step - loss: 0.5698 - accuracy: 0.8157 - val_loss: 0.3112 - val_accuracy: 0.9068\n",
            "Epoch 11/20\n",
            "540/540 [==============================] - 31s 58ms/step - loss: 0.5188 - accuracy: 0.8318 - val_loss: 0.2810 - val_accuracy: 0.9170\n",
            "Epoch 12/20\n",
            "540/540 [==============================] - 31s 57ms/step - loss: 0.5105 - accuracy: 0.8364 - val_loss: 0.2813 - val_accuracy: 0.9172\n",
            "Epoch 13/20\n",
            "540/540 [==============================] - 31s 58ms/step - loss: 0.4777 - accuracy: 0.8474 - val_loss: 0.2662 - val_accuracy: 0.9195\n",
            "Epoch 14/20\n",
            "540/540 [==============================] - 33s 62ms/step - loss: 0.4541 - accuracy: 0.8525 - val_loss: 0.2500 - val_accuracy: 0.9251\n",
            "Epoch 15/20\n",
            "540/540 [==============================] - 31s 57ms/step - loss: 0.4623 - accuracy: 0.8526 - val_loss: 0.2617 - val_accuracy: 0.9200\n",
            "Epoch 16/20\n",
            "540/540 [==============================] - 31s 57ms/step - loss: 0.4236 - accuracy: 0.8635 - val_loss: 0.2556 - val_accuracy: 0.9214\n",
            "Epoch 17/20\n",
            "540/540 [==============================] - 31s 58ms/step - loss: 0.4085 - accuracy: 0.8688 - val_loss: 0.2367 - val_accuracy: 0.9267\n",
            "Epoch 18/20\n",
            "540/540 [==============================] - 31s 58ms/step - loss: 0.4014 - accuracy: 0.8714 - val_loss: 0.2412 - val_accuracy: 0.9267\n",
            "Epoch 19/20\n",
            "540/540 [==============================] - 30s 55ms/step - loss: 0.3907 - accuracy: 0.8743 - val_loss: 0.2374 - val_accuracy: 0.9297\n",
            "Epoch 20/20\n",
            "540/540 [==============================] - 29s 54ms/step - loss: 0.3934 - accuracy: 0.8747 - val_loss: 0.2427 - val_accuracy: 0.9291\n"
          ]
        }
      ]
    },
    {
      "cell_type": "code",
      "source": [
        "loss, accuracy = model.evaluate(x_test, y_test)\n",
        "print(f\"Test accuracy: {accuracy*100:.2f}%\")\n",
        "\n",
        "plt.plot(history.history['accuracy'], label='accuracy')\n",
        "plt.plot(history.history['val_accuracy'], label = 'val_accuracy')\n",
        "plt.xlabel('Epoch')\n",
        "plt.ylabel('Accuracy')\n",
        "plt.ylim([0, 1])\n",
        "plt.legend(loc='lower right')\n",
        "plt.show()\n",
        "\n"
      ],
      "metadata": {
        "colab": {
          "base_uri": "https://localhost:8080/",
          "height": 490
        },
        "id": "aQDSVjD3Uggv",
        "outputId": "0250d27b-02dd-4bfb-bb0c-a0f8a23398d9"
      },
      "execution_count": null,
      "outputs": [
        {
          "output_type": "stream",
          "name": "stdout",
          "text": [
            "135/135 [==============================] - 2s 13ms/step - loss: 0.2213 - accuracy: 0.9362\n",
            "Test accuracy: 93.62%\n"
          ]
        },
        {
          "output_type": "display_data",
          "data": {
            "text/plain": [
              "<Figure size 640x480 with 1 Axes>"
            ],
            "image/png": "[encoded data removed]"
          },
          "metadata": {}
        }
      ]
    },
    {
      "cell_type": "code",
      "source": [
        "model.save('/content/drive/My Drive/digit_speech_recognition_TRAILmodel.h5')"
      ],
      "metadata": {
        "id": "ppFEy-xcUiYm"
      },
      "execution_count": null,
      "outputs": []
    },
    {
      "cell_type": "code",
      "source": [
        "!pip install wandb\n"
      ],
      "metadata": {
        "colab": {
          "base_uri": "https://localhost:8080/"
        },
        "id": "G1Ya2uL7S8cR",
        "outputId": "710e715c-077f-4cc4-b8aa-7213c5205971"
      },
      "execution_count": null,
      "outputs": [
        {
          "output_type": "stream",
          "name": "stdout",
          "text": [
            "Requirement already satisfied: wandb in /usr/local/lib/python3.10/dist-packages (0.17.0)\n",
            "Requirement already satisfied: click!=8.0.0,>=7.1 in /usr/local/lib/python3.10/dist-packages (from wandb) (8.1.7)\n",
            "Requirement already satisfied: docker-pycreds>=0.4.0 in /usr/local/lib/python3.10/dist-packages (from wandb) (0.4.0)\n",
            "Requirement already satisfied: gitpython!=3.1.29,>=1.0.0 in /usr/local/lib/python3.10/dist-packages (from wandb) (3.1.43)\n",
            "Requirement already satisfied: platformdirs in /usr/local/lib/python3.10/dist-packages (from wandb) (4.2.1)\n",
            "Requirement already satisfied: protobuf!=4.21.0,<5,>=3.19.0 in /usr/local/lib/python3.10/dist-packages (from wandb) (3.20.3)\n",
            "Requirement already satisfied: psutil>=5.0.0 in /usr/local/lib/python3.10/dist-packages (from wandb) (5.9.5)\n",
            "Requirement already satisfied: pyyaml in /usr/local/lib/python3.10/dist-packages (from wandb) (6.0.1)\n",
            "Requirement already satisfied: requests<3,>=2.0.0 in /usr/local/lib/python3.10/dist-packages (from wandb) (2.31.0)\n",
            "Requirement already satisfied: sentry-sdk>=1.0.0 in /usr/local/lib/python3.10/dist-packages (from wandb) (2.2.0)\n",
            "Requirement already satisfied: setproctitle in /usr/local/lib/python3.10/dist-packages (from wandb) (1.3.3)\n",
            "Requirement already satisfied: setuptools in /usr/local/lib/python3.10/dist-packages (from wandb) (67.7.2)\n",
            "Requirement already satisfied: six>=1.4.0 in /usr/local/lib/python3.10/dist-packages (from docker-pycreds>=0.4.0->wandb) (1.16.0)\n",
            "Requirement already satisfied: gitdb<5,>=4.0.1 in /usr/local/lib/python3.10/dist-packages (from gitpython!=3.1.29,>=1.0.0->wandb) (4.0.11)\n",
            "Requirement already satisfied: charset-normalizer<4,>=2 in /usr/local/lib/python3.10/dist-packages (from requests<3,>=2.0.0->wandb) (3.3.2)\n",
            "Requirement already satisfied: idna<4,>=2.5 in /usr/local/lib/python3.10/dist-packages (from requests<3,>=2.0.0->wandb) (3.7)\n",
            "Requirement already satisfied: urllib3<3,>=1.21.1 in /usr/local/lib/python3.10/dist-packages (from requests<3,>=2.0.0->wandb) (2.0.7)\n",
            "Requirement already satisfied: certifi>=2017.4.17 in /usr/local/lib/python3.10/dist-packages (from requests<3,>=2.0.0->wandb) (2024.2.2)\n",
            "Requirement already satisfied: smmap<6,>=3.0.1 in /usr/local/lib/python3.10/dist-packages (from gitdb<5,>=4.0.1->gitpython!=3.1.29,>=1.0.0->wandb) (5.0.1)\n"
          ]
        }
      ]
    },
    {
      "cell_type": "markdown",
      "source": [
        "<div style=\"border: 2px solid #4CAF50; padding: 15px; background-color: #f9f9f9; border-radius: 10px;\">\n",
        "    <h2 style=\"color: #4CAF50;\">Using Weights & Biases (wandb) for Experiment Tracking</h2>\n",
        "    <p>Weights & Biases (wandb) is a tool for tracking and visualizing machine learning experiments. It provides an easy way to log various metrics, visualize model performance, and compare different runs. Here’s a detailed explanation of how wandb is used in this notebook:</p>\n",
        "    <ul>\n",
        "        <li><strong>Tracking Metrics:</strong> wandb allows you to track important metrics like training and validation accuracy, loss, and more in real-time. This helps you monitor the progress of your model training and detect any issues early on.</li>\n",
        "        <li><strong>Logging Hyperparameters:</strong> You can log hyperparameters used in your experiments, such as learning rate, batch size, and number of epochs. This makes it easy to keep track of different configurations and their effects on model performance.</li>\n",
        "        <li><strong>Visualizing Performance:</strong> wandb provides interactive plots and charts that help you visualize the performance of your model over time. This includes plots for accuracy, loss, and other custom metrics.</li>\n",
        "        <li><strong>Comparing Runs:</strong> With wandb, you can compare different training runs side-by-side. This is particularly useful for hyperparameter tuning and understanding the impact of different changes to your model or training process.</li>\n",
        "        <li><strong>Collaboration:</strong> wandb facilitates collaboration by allowing you to share your experiments and results with your team. You can easily access and review the results from different runs, making it easier to work together on improving the model.</li>\n",
        "    </ul>\n",
        "    <p>In this notebook, we use <code>wandb.keras.WandbCallback()</code> as a callback in the <code>model2.fit()</code> function. This callback integrates wandb with Keras, automatically logging metrics and parameters for each epoch during the training process.</p>\n",
        "</div>\n"
      ],
      "metadata": {
        "id": "Yrg5UG2ap0C2"
      }
    },
    {
      "cell_type": "code",
      "source": [
        "import wandb\n",
        "\n",
        "wandb.init(project='digit-speech-recognition')"
      ],
      "metadata": {
        "colab": {
          "base_uri": "https://localhost:8080/",
          "height": 611
        },
        "id": "gDbVsljcTHWI",
        "outputId": "ebb6cf07-93e4-4dbe-a7a7-f4c6396c6db9"
      },
      "execution_count": null,
      "outputs": [
        {
          "output_type": "display_data",
          "data": {
            "text/plain": [
              "<IPython.core.display.Javascript object>"
            ],
            "application/javascript": [
              "\n",
              "        window._wandbApiKey = new Promise((resolve, reject) => {\n",
              "            function loadScript(url) {\n",
              "            return new Promise(function(resolve, reject) {\n",
              "                let newScript = document.createElement(\"script\");\n",
              "                newScript.onerror = reject;\n",
              "                newScript.onload = resolve;\n",
              "                document.body.appendChild(newScript);\n",
              "                newScript.src = url;\n",
              "            });\n",
              "            }\n",
              "            loadScript(\"https://cdn.jsdelivr.net/npm/postmate/build/postmate.min.js\").then(() => {\n",
              "            const iframe = document.createElement('iframe')\n",
              "            iframe.style.cssText = \"width:0;height:0;border:none\"\n",
              "            document.body.appendChild(iframe)\n",
              "            const handshake = new Postmate({\n",
              "                container: iframe,\n",
              "                url: 'https://wandb.ai/authorize'\n",
              "            });\n",
              "            const timeout = setTimeout(() => reject(\"Couldn't auto authenticate\"), 5000)\n",
              "            handshake.then(function(child) {\n",
              "                child.on('authorize', data => {\n",
              "                    clearTimeout(timeout)\n",
              "                    resolve(data)\n",
              "                });\n",
              "            });\n",
              "            })\n",
              "        });\n",
              "    "
            ]
          },
          "metadata": {}
        },
        {
          "output_type": "stream",
          "name": "stderr",
          "text": [
            "\u001b[34m\u001b[1mwandb\u001b[0m: Logging into wandb.ai. (Learn how to deploy a W&B server locally: https://wandb.me/wandb-server)\n",
            "\u001b[34m\u001b[1mwandb\u001b[0m: You can find your API key in your browser here: https://wandb.ai/authorize\n",
            "wandb: Paste an API key from your profile and hit enter, or press ctrl+c to quit:"
          ]
        },
        {
          "name": "stdout",
          "output_type": "stream",
          "text": [
            " ··········\n"
          ]
        },
        {
          "output_type": "stream",
          "name": "stderr",
          "text": [
            "\u001b[34m\u001b[1mwandb\u001b[0m: Appending key for api.wandb.ai to your netrc file: /root/.netrc\n"
          ]
        },
        {
          "output_type": "display_data",
          "data": {
            "text/plain": [
              "<IPython.core.display.HTML object>"
            ],
            "text/html": [
              "Tracking run with wandb version 0.17.0"
            ]
          },
          "metadata": {}
        },
        {
          "output_type": "display_data",
          "data": {
            "text/plain": [
              "<IPython.core.display.HTML object>"
            ],
            "text/html": [
              "Run data is saved locally in <code>/content/wandb/run-20240519_100205-qbn7fd1w</code>"
            ]
          },
          "metadata": {}
        },
        {
          "output_type": "display_data",
          "data": {
            "text/plain": [
              "<IPython.core.display.HTML object>"
            ],
            "text/html": [
              "Syncing run <strong><a href='https://wandb.ai/alexandria-university_foe/digit-speech-recognition/runs/qbn7fd1w' target=\"_blank\">swift-galaxy-1</a></strong> to <a href='https://wandb.ai/alexandria-university_foe/digit-speech-recognition' target=\"_blank\">Weights & Biases</a> (<a href='https://wandb.me/run' target=\"_blank\">docs</a>)<br/>"
            ]
          },
          "metadata": {}
        },
        {
          "output_type": "display_data",
          "data": {
            "text/plain": [
              "<IPython.core.display.HTML object>"
            ],
            "text/html": [
              " View project at <a href='https://wandb.ai/alexandria-university_foe/digit-speech-recognition' target=\"_blank\">https://wandb.ai/alexandria-university_foe/digit-speech-recognition</a>"
            ]
          },
          "metadata": {}
        },
        {
          "output_type": "display_data",
          "data": {
            "text/plain": [
              "<IPython.core.display.HTML object>"
            ],
            "text/html": [
              " View run at <a href='https://wandb.ai/alexandria-university_foe/digit-speech-recognition/runs/qbn7fd1w' target=\"_blank\">https://wandb.ai/alexandria-university_foe/digit-speech-recognition/runs/qbn7fd1w</a>"
            ]
          },
          "metadata": {}
        },
        {
          "output_type": "execute_result",
          "data": {
            "text/html": [
              "<button onClick=\"this.nextSibling.style.display='block';this.style.display='none';\">Display W&B run</button><iframe src='https://wandb.ai/alexandria-university_foe/digit-speech-recognition/runs/qbn7fd1w?jupyter=true' style='border:none;width:100%;height:420px;display:none;'></iframe>"
            ],
            "text/plain": [
              "<wandb.sdk.wandb_run.Run at 0x7fb38f437370>"
            ]
          },
          "metadata": {},
          "execution_count": 20
        }
      ]
    },
    {
      "cell_type": "markdown",
      "source": [
        "<div style=\"border: 2px solid #4CAF50; padding: 15px; background-color: #f9f9f9; border-radius: 10px;\">\n",
        "    <h2 style=\"color: #4CAF50;\">Changes in Model Architecture</h2>\n",
        "    <p>Compared to the previous model, <code>model2</code> incorporates several significant changes to potentially improve performance:</p>\n",
        "    <ul>\n",
        "        <li><strong>Increased Filters:</strong> The number of filters in each convolutional layer has been increased:\n",
        "            <ul>\n",
        "                <li>The first <code>Conv2D</code> layer now has 64 filters instead of 32.</li>\n",
        "                <li>The second <code>Conv2D</code> layer now has 128 filters instead of 64.</li>\n",
        "                <li>A new third <code>Conv2D</code> layer has been added with 256 filters.</li>\n",
        "            </ul>\n",
        "        </li>\n",
        "        <li><strong>Additional Convolutional Layer:</strong> An additional convolutional layer with 256 filters has been added to increase the model’s capacity to capture more complex features from the input data.</li>\n",
        "        <li><strong>Increased Units in Dense Layer:</strong> The number of units in the fully connected <code>Dense</code> layer has been increased from 128 to 512, allowing the model to learn more complex representations before the final classification layer.</li>\n",
        "    </ul>\n",
        "    <p>These changes are intended to enhance the model's ability to learn from the data by providing more parameters and depth, which can be beneficial for capturing intricate patterns in the audio features.</p>\n",
        "</div>\n"
      ],
      "metadata": {
        "id": "jqradBR4pe21"
      }
    },
    {
      "cell_type": "code",
      "source": [
        "model2 = Sequential([\n",
        "    Conv2D(64, (3, 3), activation='relu', input_shape=(40, 32, 1)),\n",
        "    MaxPooling2D((2, 2)),\n",
        "    Dropout(0.25),\n",
        "    Conv2D(128, (3, 3), activation='relu'),\n",
        "    MaxPooling2D((2, 2)),\n",
        "    Dropout(0.25),\n",
        "    Conv2D(256, (3, 3), activation='relu'),\n",
        "    MaxPooling2D((2, 2)),\n",
        "    Dropout(0.25),\n",
        "    Flatten(),\n",
        "    Dense(512, activation='relu'),\n",
        "    Dropout(0.5),\n",
        "    Dense(len(DIGITS), activation='softmax')\n",
        "])"
      ],
      "metadata": {
        "id": "dxNyaVvYT44x"
      },
      "execution_count": null,
      "outputs": []
    },
    {
      "cell_type": "code",
      "source": [
        "model2.compile(optimizer='adam', loss='categorical_crossentropy', metrics=['accuracy'])\n",
        "model.summary()"
      ],
      "metadata": {
        "colab": {
          "base_uri": "https://localhost:8080/"
        },
        "id": "xYd8guzOUBvn",
        "outputId": "c0a2588c-7d14-4d88-bd1b-3b77243381b9"
      },
      "execution_count": null,
      "outputs": [
        {
          "output_type": "stream",
          "name": "stdout",
          "text": [
            "Model: \"sequential\"\n",
            "_________________________________________________________________\n",
            " Layer (type)                Output Shape              Param #   \n",
            "=================================================================\n",
            " conv2d (Conv2D)             (None, 38, 30, 32)        320       \n",
            "                                                                 \n",
            " max_pooling2d (MaxPooling2  (None, 19, 15, 32)        0         \n",
            " D)                                                              \n",
            "                                                                 \n",
            " dropout (Dropout)           (None, 19, 15, 32)        0         \n",
            "                                                                 \n",
            " conv2d_1 (Conv2D)           (None, 17, 13, 64)        18496     \n",
            "                                                                 \n",
            " max_pooling2d_1 (MaxPoolin  (None, 8, 6, 64)          0         \n",
            " g2D)                                                            \n",
            "                                                                 \n",
            " dropout_1 (Dropout)         (None, 8, 6, 64)          0         \n",
            "                                                                 \n",
            " flatten (Flatten)           (None, 3072)              0         \n",
            "                                                                 \n",
            " dense (Dense)               (None, 128)               393344    \n",
            "                                                                 \n",
            " dropout_2 (Dropout)         (None, 128)               0         \n",
            "                                                                 \n",
            " dense_1 (Dense)             (None, 10)                1290      \n",
            "                                                                 \n",
            "=================================================================\n",
            "Total params: 413450 (1.58 MB)\n",
            "Trainable params: 413450 (1.58 MB)\n",
            "Non-trainable params: 0 (0.00 Byte)\n",
            "_________________________________________________________________\n"
          ]
        }
      ]
    },
    {
      "cell_type": "code",
      "source": [
        "history = model2.fit(\n",
        "    x_train, y_train,\n",
        "    epochs=20,\n",
        "    batch_size=32,\n",
        "    validation_data=(x_test, y_test),\n",
        "    callbacks=[wandb.keras.WandbCallback()]\n",
        ")"
      ],
      "metadata": {
        "colab": {
          "base_uri": "https://localhost:8080/"
        },
        "id": "84-3KrOqUJvF",
        "outputId": "5ab8f473-2811-4c2c-a3a9-0fbdbf6382ca"
      },
      "execution_count": null,
      "outputs": [
        {
          "output_type": "stream",
          "name": "stdout",
          "text": [
            "Epoch 1/20\n",
            "539/540 [============================>.] - ETA: 0s - loss: 1.5699 - accuracy: 0.4809"
          ]
        },
        {
          "output_type": "stream",
          "name": "stderr",
          "text": [
            "/usr/local/lib/python3.10/dist-packages/keras/src/engine/training.py:3103: UserWarning: You are saving your model as an HDF5 file via `model.save()`. This file format is considered legacy. We recommend using instead the native Keras format, e.g. `model.save('my_model.keras')`.\n",
            "  saving_api.save_model(\n",
            "\u001b[34m\u001b[1mwandb\u001b[0m: Adding directory to artifact (/content/wandb/run-20240519_100205-qbn7fd1w/files/model-best)... Done. 0.1s\n"
          ]
        },
        {
          "output_type": "stream",
          "name": "stdout",
          "text": [
            "\b\b\b\b\b\b\b\b\b\b\b\b\b\b\b\b\b\b\b\b\b\b\b\b\b\b\b\b\b\b\b\b\b\b\b\b\b\b\b\b\b\b\b\b\b\b\b\b\b\b\b\b\b\b\b\b\b\b\b\b\b\b\b\b\b\b\b\b\b\b\b\b\b\b\b\b\b\b\b\b\b\b\b\b\r540/540 [==============================] - 117s 214ms/step - loss: 1.5699 - accuracy: 0.4810 - val_loss: 0.5848 - val_accuracy: 0.8212\n",
            "Epoch 2/20\n",
            "539/540 [============================>.] - ETA: 0s - loss: 0.6819 - accuracy: 0.7767"
          ]
        },
        {
          "output_type": "stream",
          "name": "stderr",
          "text": [
            "/usr/local/lib/python3.10/dist-packages/keras/src/engine/training.py:3103: UserWarning: You are saving your model as an HDF5 file via `model.save()`. This file format is considered legacy. We recommend using instead the native Keras format, e.g. `model.save('my_model.keras')`.\n",
            "  saving_api.save_model(\n",
            "\u001b[34m\u001b[1mwandb\u001b[0m: Adding directory to artifact (/content/wandb/run-20240519_100205-qbn7fd1w/files/model-best)... Done. 0.1s\n"
          ]
        },
        {
          "output_type": "stream",
          "name": "stdout",
          "text": [
            "\b\b\b\b\b\b\b\b\b\b\b\b\b\b\b\b\b\b\b\b\b\b\b\b\b\b\b\b\b\b\b\b\b\b\b\b\b\b\b\b\b\b\b\b\b\b\b\b\b\b\b\b\b\b\b\b\b\b\b\b\b\b\b\b\b\b\b\b\b\b\b\b\b\b\b\b\b\b\b\b\b\b\b\b\r540/540 [==============================] - 102s 188ms/step - loss: 0.6819 - accuracy: 0.7767 - val_loss: 0.3380 - val_accuracy: 0.8906\n",
            "Epoch 3/20\n",
            "539/540 [============================>.] - ETA: 0s - loss: 0.5152 - accuracy: 0.8348"
          ]
        },
        {
          "output_type": "stream",
          "name": "stderr",
          "text": [
            "/usr/local/lib/python3.10/dist-packages/keras/src/engine/training.py:3103: UserWarning: You are saving your model as an HDF5 file via `model.save()`. This file format is considered legacy. We recommend using instead the native Keras format, e.g. `model.save('my_model.keras')`.\n",
            "  saving_api.save_model(\n",
            "\u001b[34m\u001b[1mwandb\u001b[0m: Adding directory to artifact (/content/wandb/run-20240519_100205-qbn7fd1w/files/model-best)... Done. 0.1s\n"
          ]
        },
        {
          "output_type": "stream",
          "name": "stdout",
          "text": [
            "\b\b\b\b\b\b\b\b\b\b\b\b\b\b\b\b\b\b\b\b\b\b\b\b\b\b\b\b\b\b\b\b\b\b\b\b\b\b\b\b\b\b\b\b\b\b\b\b\b\b\b\b\b\b\b\b\b\b\b\b\b\b\b\b\b\b\b\b\b\b\b\b\b\b\b\b\b\b\b\b\b\b\b\b\r540/540 [==============================] - 98s 182ms/step - loss: 0.5151 - accuracy: 0.8348 - val_loss: 0.2700 - val_accuracy: 0.9137\n",
            "Epoch 4/20\n",
            "539/540 [============================>.] - ETA: 0s - loss: 0.4425 - accuracy: 0.8618"
          ]
        },
        {
          "output_type": "stream",
          "name": "stderr",
          "text": [
            "/usr/local/lib/python3.10/dist-packages/keras/src/engine/training.py:3103: UserWarning: You are saving your model as an HDF5 file via `model.save()`. This file format is considered legacy. We recommend using instead the native Keras format, e.g. `model.save('my_model.keras')`.\n",
            "  saving_api.save_model(\n",
            "\u001b[34m\u001b[1mwandb\u001b[0m: Adding directory to artifact (/content/wandb/run-20240519_100205-qbn7fd1w/files/model-best)... Done. 0.1s\n"
          ]
        },
        {
          "output_type": "stream",
          "name": "stdout",
          "text": [
            "\b\b\b\b\b\b\b\b\b\b\b\b\b\b\b\b\b\b\b\b\b\b\b\b\b\b\b\b\b\b\b\b\b\b\b\b\b\b\b\b\b\b\b\b\b\b\b\b\b\b\b\b\b\b\b\b\b\b\b\b\b\b\b\b\b\b\b\b\b\b\b\b\b\b\b\b\b\b\b\b\b\b\b\b\r540/540 [==============================] - 100s 185ms/step - loss: 0.4425 - accuracy: 0.8618 - val_loss: 0.2448 - val_accuracy: 0.9240\n",
            "Epoch 5/20\n",
            "539/540 [============================>.] - ETA: 0s - loss: 0.4018 - accuracy: 0.8752"
          ]
        },
        {
          "output_type": "stream",
          "name": "stderr",
          "text": [
            "/usr/local/lib/python3.10/dist-packages/keras/src/engine/training.py:3103: UserWarning: You are saving your model as an HDF5 file via `model.save()`. This file format is considered legacy. We recommend using instead the native Keras format, e.g. `model.save('my_model.keras')`.\n",
            "  saving_api.save_model(\n",
            "\u001b[34m\u001b[1mwandb\u001b[0m: Adding directory to artifact (/content/wandb/run-20240519_100205-qbn7fd1w/files/model-best)... Done. 0.1s\n"
          ]
        },
        {
          "output_type": "stream",
          "name": "stdout",
          "text": [
            "\b\b\b\b\b\b\b\b\b\b\b\b\b\b\b\b\b\b\b\b\b\b\b\b\b\b\b\b\b\b\b\b\b\b\b\b\b\b\b\b\b\b\b\b\b\b\b\b\b\b\b\b\b\b\b\b\b\b\b\b\b\b\b\b\b\b\b\b\b\b\b\b\b\b\b\b\b\b\b\b\b\b\b\b\r540/540 [==============================] - 96s 178ms/step - loss: 0.4018 - accuracy: 0.8752 - val_loss: 0.2400 - val_accuracy: 0.9279\n",
            "Epoch 6/20\n",
            "540/540 [==============================] - 94s 174ms/step - loss: 0.3765 - accuracy: 0.8817 - val_loss: 0.2415 - val_accuracy: 0.9272\n",
            "Epoch 7/20\n",
            "539/540 [============================>.] - ETA: 0s - loss: 0.3378 - accuracy: 0.8930"
          ]
        },
        {
          "output_type": "stream",
          "name": "stderr",
          "text": [
            "/usr/local/lib/python3.10/dist-packages/keras/src/engine/training.py:3103: UserWarning: You are saving your model as an HDF5 file via `model.save()`. This file format is considered legacy. We recommend using instead the native Keras format, e.g. `model.save('my_model.keras')`.\n",
            "  saving_api.save_model(\n",
            "\u001b[34m\u001b[1mwandb\u001b[0m: Adding directory to artifact (/content/wandb/run-20240519_100205-qbn7fd1w/files/model-best)... Done. 0.1s\n"
          ]
        },
        {
          "output_type": "stream",
          "name": "stdout",
          "text": [
            "\b\b\b\b\b\b\b\b\b\b\b\b\b\b\b\b\b\b\b\b\b\b\b\b\b\b\b\b\b\b\b\b\b\b\b\b\b\b\b\b\b\b\b\b\b\b\b\b\b\b\b\b\b\b\b\b\b\b\b\b\b\b\b\b\b\b\b\b\b\b\b\b\b\b\b\b\b\b\b\b\b\b\b\b\r540/540 [==============================] - 95s 176ms/step - loss: 0.3380 - accuracy: 0.8929 - val_loss: 0.2224 - val_accuracy: 0.9316\n",
            "Epoch 8/20\n",
            "539/540 [============================>.] - ETA: 0s - loss: 0.3462 - accuracy: 0.8916"
          ]
        },
        {
          "output_type": "stream",
          "name": "stderr",
          "text": [
            "/usr/local/lib/python3.10/dist-packages/keras/src/engine/training.py:3103: UserWarning: You are saving your model as an HDF5 file via `model.save()`. This file format is considered legacy. We recommend using instead the native Keras format, e.g. `model.save('my_model.keras')`.\n",
            "  saving_api.save_model(\n",
            "\u001b[34m\u001b[1mwandb\u001b[0m: Adding directory to artifact (/content/wandb/run-20240519_100205-qbn7fd1w/files/model-best)... Done. 0.1s\n"
          ]
        },
        {
          "output_type": "stream",
          "name": "stdout",
          "text": [
            "\b\b\b\b\b\b\b\b\b\b\b\b\b\b\b\b\b\b\b\b\b\b\b\b\b\b\b\b\b\b\b\b\b\b\b\b\b\b\b\b\b\b\b\b\b\b\b\b\b\b\b\b\b\b\b\b\b\b\b\b\b\b\b\b\b\b\b\b\b\b\b\b\b\b\b\b\b\b\b\b\b\b\b\b\r540/540 [==============================] - 95s 176ms/step - loss: 0.3462 - accuracy: 0.8916 - val_loss: 0.1895 - val_accuracy: 0.9420\n",
            "Epoch 9/20\n",
            "540/540 [==============================] - 95s 175ms/step - loss: 0.3438 - accuracy: 0.8972 - val_loss: 0.2137 - val_accuracy: 0.9358\n",
            "Epoch 10/20\n",
            "540/540 [==============================] - 92s 171ms/step - loss: 0.3301 - accuracy: 0.8999 - val_loss: 0.2142 - val_accuracy: 0.9374\n",
            "Epoch 11/20\n",
            "540/540 [==============================] - 101s 187ms/step - loss: 0.3160 - accuracy: 0.9028 - val_loss: 0.1973 - val_accuracy: 0.9395\n",
            "Epoch 12/20\n",
            "540/540 [==============================] - 99s 183ms/step - loss: 0.3226 - accuracy: 0.9036 - val_loss: 0.1983 - val_accuracy: 0.9416\n",
            "Epoch 13/20\n",
            "540/540 [==============================] - 94s 174ms/step - loss: 0.3096 - accuracy: 0.9086 - val_loss: 0.1985 - val_accuracy: 0.9395\n",
            "Epoch 14/20\n",
            "540/540 [==============================] - 95s 177ms/step - loss: 0.3083 - accuracy: 0.9102 - val_loss: 0.2212 - val_accuracy: 0.9307\n",
            "Epoch 15/20\n",
            "540/540 [==============================] - 94s 174ms/step - loss: 0.3146 - accuracy: 0.9070 - val_loss: 0.1907 - val_accuracy: 0.9437\n",
            "Epoch 16/20\n",
            "540/540 [==============================] - 96s 178ms/step - loss: 0.2982 - accuracy: 0.9094 - val_loss: 0.1954 - val_accuracy: 0.9444\n",
            "Epoch 17/20\n",
            "539/540 [============================>.] - ETA: 0s - loss: 0.3020 - accuracy: 0.9110"
          ]
        },
        {
          "output_type": "stream",
          "name": "stderr",
          "text": [
            "/usr/local/lib/python3.10/dist-packages/keras/src/engine/training.py:3103: UserWarning: You are saving your model as an HDF5 file via `model.save()`. This file format is considered legacy. We recommend using instead the native Keras format, e.g. `model.save('my_model.keras')`.\n",
            "  saving_api.save_model(\n",
            "\u001b[34m\u001b[1mwandb\u001b[0m: Adding directory to artifact (/content/wandb/run-20240519_100205-qbn7fd1w/files/model-best)... Done. 0.1s\n"
          ]
        },
        {
          "output_type": "stream",
          "name": "stdout",
          "text": [
            "\b\b\b\b\b\b\b\b\b\b\b\b\b\b\b\b\b\b\b\b\b\b\b\b\b\b\b\b\b\b\b\b\b\b\b\b\b\b\b\b\b\b\b\b\b\b\b\b\b\b\b\b\b\b\b\b\b\b\b\b\b\b\b\b\b\b\b\b\b\b\b\b\b\b\b\b\b\b\b\b\b\b\b\b\r540/540 [==============================] - 95s 176ms/step - loss: 0.3021 - accuracy: 0.9110 - val_loss: 0.1821 - val_accuracy: 0.9460\n",
            "Epoch 18/20\n",
            "539/540 [============================>.] - ETA: 0s - loss: 0.2862 - accuracy: 0.9151"
          ]
        },
        {
          "output_type": "stream",
          "name": "stderr",
          "text": [
            "/usr/local/lib/python3.10/dist-packages/keras/src/engine/training.py:3103: UserWarning: You are saving your model as an HDF5 file via `model.save()`. This file format is considered legacy. We recommend using instead the native Keras format, e.g. `model.save('my_model.keras')`.\n",
            "  saving_api.save_model(\n",
            "\u001b[34m\u001b[1mwandb\u001b[0m: Adding directory to artifact (/content/wandb/run-20240519_100205-qbn7fd1w/files/model-best)... Done. 0.1s\n"
          ]
        },
        {
          "output_type": "stream",
          "name": "stdout",
          "text": [
            "\b\b\b\b\b\b\b\b\b\b\b\b\b\b\b\b\b\b\b\b\b\b\b\b\b\b\b\b\b\b\b\b\b\b\b\b\b\b\b\b\b\b\b\b\b\b\b\b\b\b\b\b\b\b\b\b\b\b\b\b\b\b\b\b\b\b\b\b\b\b\b\b\b\b\b\b\b\b\b\b\b\b\b\b\r540/540 [==============================] - 95s 176ms/step - loss: 0.2862 - accuracy: 0.9151 - val_loss: 0.1745 - val_accuracy: 0.9467\n",
            "Epoch 19/20\n",
            "539/540 [============================>.] - ETA: 0s - loss: 0.2710 - accuracy: 0.9200"
          ]
        },
        {
          "output_type": "stream",
          "name": "stderr",
          "text": [
            "/usr/local/lib/python3.10/dist-packages/keras/src/engine/training.py:3103: UserWarning: You are saving your model as an HDF5 file via `model.save()`. This file format is considered legacy. We recommend using instead the native Keras format, e.g. `model.save('my_model.keras')`.\n",
            "  saving_api.save_model(\n",
            "\u001b[34m\u001b[1mwandb\u001b[0m: Adding directory to artifact (/content/wandb/run-20240519_100205-qbn7fd1w/files/model-best)... Done. 0.1s\n"
          ]
        },
        {
          "output_type": "stream",
          "name": "stdout",
          "text": [
            "\b\b\b\b\b\b\b\b\b\b\b\b\b\b\b\b\b\b\b\b\b\b\b\b\b\b\b\b\b\b\b\b\b\b\b\b\b\b\b\b\b\b\b\b\b\b\b\b\b\b\b\b\b\b\b\b\b\b\b\b\b\b\b\b\b\b\b\b\b\b\b\b\b\b\b\b\b\b\b\b\b\b\b\b\r540/540 [==============================] - 99s 184ms/step - loss: 0.2710 - accuracy: 0.9201 - val_loss: 0.1697 - val_accuracy: 0.9488\n",
            "Epoch 20/20\n",
            "540/540 [==============================] - 99s 182ms/step - loss: 0.2938 - accuracy: 0.9151 - val_loss: 0.2013 - val_accuracy: 0.9471\n"
          ]
        }
      ]
    },
    {
      "cell_type": "code",
      "source": [
        "loss, accuracy = model.evaluate(x_test, y_test)\n",
        "print(f\"Test accuracy: {accuracy*100:.2f}%\")"
      ],
      "metadata": {
        "colab": {
          "base_uri": "https://localhost:8080/"
        },
        "id": "j4bpnFRvbyFF",
        "outputId": "e7e1db7e-e533-4b05-9355-7362991b1a3f"
      },
      "execution_count": null,
      "outputs": [
        {
          "output_type": "stream",
          "name": "stdout",
          "text": [
            "135/135 [==============================] - 2s 12ms/step - loss: 0.2213 - accuracy: 0.9362\n",
            "Test accuracy: 93.62%\n"
          ]
        }
      ]
    },
    {
      "cell_type": "code",
      "source": [
        "plt.plot(history.history['accuracy'], label='accuracy')\n",
        "plt.plot(history.history['val_accuracy'], label = 'val_accuracy')\n",
        "plt.xlabel('Epoch')\n",
        "plt.ylabel('Accuracy')\n",
        "plt.ylim([0, 1])\n",
        "plt.legend(loc='lower right')\n",
        "plt.show()"
      ],
      "metadata": {
        "colab": {
          "base_uri": "https://localhost:8080/",
          "height": 455
        },
        "id": "r8DJXExNb2dv",
        "outputId": "4e615987-f80d-4cad-b1d4-90eb612bcf15"
      },
      "execution_count": null,
      "outputs": [
        {
          "output_type": "display_data",
          "data": {
            "text/plain": [
              "<Figure size 640x480 with 1 Axes>"
            ],
            "image/png": "[encoded data removed]"
          },
          "metadata": {}
        }
      ]
    },
    {
      "cell_type": "code",
      "source": [
        "model.save('/content/drive/MyDrive/SavedSpeechModel/digit_speech_recognition_Finalmodel.h5')"
      ],
      "metadata": {
        "id": "eiCLrY_rb6-W",
        "collapsed": true
      },
      "execution_count": null,
      "outputs": []
    },
    {
      "cell_type": "markdown",
      "source": [
        "<div style=\"border: 2px solid #4CAF50; padding: 15px; background-color: #f9f9f9; border-radius: 10px;\">\n",
        "    <h3 style=\"color: #4CAF50;\">Audio Preprocessing and Digit Prediction</h3>\n",
        "    <p>This section loads the previous pre-trained digit recognition model and defines functions to preprocess audio files and predict the corresponding digit:</p>\n",
        "    <ul>\n",
        "        <li><strong>Preprocess Audio:</strong> Loads an audio file, extracts MFCC features, resizes them to a consistent shape, and prepares them for model input.</li>\n",
        "        <li><strong>Predict Digit:</strong> Uses the preprocessed audio to predict the digit with the trained model.</li>\n",
        "    </ul>\n",
        "</div>\n"
      ],
      "metadata": {
        "id": "c3uV8ThDqSuq"
      }
    },
    {
      "cell_type": "code",
      "source": [
        "import numpy as np\n",
        "import tensorflow as tf\n",
        "import librosa\n",
        "import librosa.display\n",
        "\n",
        "# Load the trained model\n",
        "model = tf.keras.models.load_model('/content/drive/MyDrive/Lab6_number0 to 9 using CNN_7756_Deep/digit_speech_recognition_Finalmodel.h5')\n",
        "\n",
        "# Function to preprocess audio\n",
        "def preprocess_audio(audio_path, sample_rate=16000, expected_shape=(40, 32, 1)):\n",
        "    y, sr = librosa.load(audio_path, sr=sample_rate)\n",
        "    mfcc = librosa.feature.mfcc(y=y, sr=sr, n_mfcc=40)\n",
        "\n",
        "    # Check the current shape\n",
        "    print(f\"Original MFCC shape: {mfcc.shape}\")\n",
        "\n",
        "    # Resize the MFCC to the expected shape\n",
        "    if mfcc.shape[1] < expected_shape[1]:\n",
        "        pad_width = expected_shape[1] - mfcc.shape[1]\n",
        "        mfcc = np.pad(mfcc, ((0, 0), (0, pad_width)), mode='constant')\n",
        "    else:\n",
        "        mfcc = mfcc[:, :expected_shape[1]]\n",
        "\n",
        "    # Check the new shape\n",
        "    print(f\"Resized MFCC shape: {mfcc.shape}\")\n",
        "\n",
        "    mfcc = mfcc[np.newaxis, ..., np.newaxis]  # Add batch and channel dimension\n",
        "    return mfcc\n",
        "\n",
        "# Function to predict digit\n",
        "def predict_digit(audio_path):\n",
        "    preprocessed_audio = preprocess_audio(audio_path)\n",
        "    prediction = model.predict(preprocessed_audio)\n",
        "    predicted_digit = np.argmax(prediction)\n",
        "    return predicted_digit\n"
      ],
      "metadata": {
        "id": "3FXGkh8OgJbU"
      },
      "execution_count": null,
      "outputs": []
    },
    {
      "cell_type": "markdown",
      "source": [
        "<div style=\"border: 2px solid #3F51B5; padding: 15px; background-color: #e8eaf6; border-radius: 10px;\">\n",
        "    <h2 style=\"color: #3F51B5;\">Predictions</h2>\n",
        "    <p>Finally, we predict the digits for a few test audio files and print the results.</p>\n",
        "</div>\n"
      ],
      "metadata": {
        "id": "c63hb61ooDVz"
      }
    },
    {
      "cell_type": "code",
      "source": [
        "\n",
        "# Predict the digit for the uploaded audio file\n",
        "audio_file = 'test_audio9.wav'  # Path to the uploaded audio file\n",
        "predicted_digit = predict_digit(audio_file)\n",
        "print(\"Predicted Digit:\", predicted_digit)"
      ],
      "metadata": {
        "colab": {
          "base_uri": "https://localhost:8080/"
        },
        "id": "QkNBJ2jPn92Y",
        "outputId": "12d35448-6e99-462e-e3ff-2761e9fd1407"
      },
      "execution_count": null,
      "outputs": [
        {
          "output_type": "stream",
          "name": "stdout",
          "text": [
            "Original MFCC shape: (40, 75)\n",
            "Resized MFCC shape: (40, 32)\n",
            "1/1 [==============================] - 0s 99ms/step\n",
            "Predicted Digit: 9\n"
          ]
        }
      ]
    },
    {
      "cell_type": "code",
      "source": [
        "# Predict the digit for the uploaded audio file\n",
        "audio_file = 'test_audio1.wav'  # Path to the uploaded audio file\n",
        "predicted_digit = predict_digit(audio_file)\n",
        "print(\"Predicted Digit:\", predicted_digit)"
      ],
      "metadata": {
        "colab": {
          "base_uri": "https://localhost:8080/"
        },
        "id": "glW58ieCjcVp",
        "outputId": "84e062ba-009c-4f0b-a655-1e5b7e8c7ff1"
      },
      "execution_count": null,
      "outputs": [
        {
          "output_type": "stream",
          "name": "stdout",
          "text": [
            "Original MFCC shape: (40, 57)\n",
            "Resized MFCC shape: (40, 32)\n",
            "1/1 [==============================] - 0s 71ms/step\n",
            "Predicted Digit: 1\n"
          ]
        }
      ]
    },
    {
      "cell_type": "code",
      "source": [
        "# Predict the digit for the uploaded audio file\n",
        "audio_file = 'test_audio7.wav'  # Path to the uploaded audio file\n",
        "predicted_digit = predict_digit(audio_file)\n",
        "print(\"Predicted Digit:\", predicted_digit)"
      ],
      "metadata": {
        "colab": {
          "base_uri": "https://localhost:8080/"
        },
        "id": "BiLovxhnjpt4",
        "outputId": "cc038015-4d21-430d-c93c-ec14af9eb3b8"
      },
      "execution_count": null,
      "outputs": [
        {
          "output_type": "stream",
          "name": "stdout",
          "text": [
            "Original MFCC shape: (40, 59)\n",
            "Resized MFCC shape: (40, 32)\n",
            "1/1 [==============================] - 0s 150ms/step\n",
            "Predicted Digit: 7\n"
          ]
        }
      ]
    }
  ]
}